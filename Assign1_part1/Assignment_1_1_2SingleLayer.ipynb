{
  "nbformat": 4,
  "nbformat_minor": 0,
  "metadata": {
    "colab": {
      "name": "Assignment 1.1 - SingleLayer.ipynb",
      "provenance": [],
      "collapsed_sections": []
    },
    "kernelspec": {
      "name": "python3",
      "display_name": "Python 3"
    },
    "accelerator": "GPU"
  },
  "cells": [
    {
      "cell_type": "code",
      "metadata": {
        "id": "CrnqiscEKGWv"
      },
      "source": [
        "from __future__ import print_function\n",
        "import argparse\n",
        "import torch\n",
        "import torch.nn as nn\n",
        "import torch.nn.functional as F\n",
        "import torch.optim as optim\n",
        "from torchvision import datasets, transforms\n",
        "from torch.autograd import Variable\n",
        "import numpy as np\n",
        "import matplotlib.pyplot as plt\n"
      ],
      "execution_count": 7,
      "outputs": []
    },
    {
      "cell_type": "code",
      "metadata": {
        "id": "V0NBWksLKRD7"
      },
      "source": [
        "# options\n",
        "dataset = 'mnist' # options: 'mnist' | 'cifar10'\n",
        "batch_size = 64   # input batch size for training\n",
        "epochs = 10       # number of epochs to train\n",
        "lr = 0.01        # learning rate"
      ],
      "execution_count": 8,
      "outputs": []
    },
    {
      "cell_type": "code",
      "metadata": {
        "id": "ab7pqvGUKVVf"
      },
      "source": [
        "# Data Loading\n",
        "# Warning: this cell might take some time when you run it for the first time, \n",
        "#          because it will download the datasets from the internet\n",
        "if dataset == 'mnist':\n",
        "    data_transform = transforms.Compose([\n",
        "        transforms.ToTensor(),\n",
        "        transforms.Normalize((0.1307,), (0.3081,))\n",
        "    ])\n",
        "    trainset = datasets.MNIST(root='.', train=True, download=True, transform=data_transform)\n",
        "    testset = datasets.MNIST(root='.', train=False, download=True, transform=data_transform)\n",
        "\n",
        "elif dataset == 'cifar10':\n",
        "    data_transform = transforms.Compose([\n",
        "        transforms.ToTensor(),\n",
        "        transforms.Normalize((0.5, 0.5, 0.5), (0.5, 0.5, 0.5)),\n",
        "    ])\n",
        "    trainset = datasets.CIFAR10(root='.', train=True, download=True, transform=data_transform)\n",
        "    testset = datasets.CIFAR10(root='.', train=False, download=True, transform=data_transform)\n",
        "\n",
        "train_loader = torch.utils.data.DataLoader(trainset, batch_size=batch_size, shuffle=True, num_workers=0)\n",
        "test_loader  = torch.utils.data.DataLoader(testset, batch_size=batch_size, shuffle=False, num_workers=0)"
      ],
      "execution_count": 9,
      "outputs": []
    },
    {
      "cell_type": "code",
      "metadata": {
        "id": "mRkBGjAEKZM0"
      },
      "source": [
        "## network and optimizer\n",
        "if dataset == 'mnist':\n",
        "    num_inputs = 784\n",
        "elif dataset == 'cifar10':\n",
        "    num_inputs = 3072\n",
        "\n",
        "num_outputs = 10 # same for both CIFAR10 and MNIST, both have 10 classes as outputs\n",
        "\n",
        "class Net(nn.Module):\n",
        "    def __init__(self, num_inputs, num_outputs):\n",
        "        super(Net, self).__init__()\n",
        "        self.params = nn.ParameterList([nn.Parameter(torch.randn(10, 10)) for i in range(10)])\n",
        "        self.linear = nn.Linear(num_inputs, num_outputs)\n",
        "\n",
        "    def forward(self, input):\n",
        "        input = input.view(-1, num_inputs) # reshape input to batch x num_inputs\n",
        "        output = self.linear(input)\n",
        "        \n",
        "        return output\n",
        "\n",
        "network = Net(num_inputs, num_outputs)\n",
        "optimizer = optim.SGD(network.parameters(), lr=lr)"
      ],
      "execution_count": 10,
      "outputs": []
    },
    {
      "cell_type": "code",
      "metadata": {
        "id": "3DfrCg4-Kfq6"
      },
      "source": [
        "def train(epoch):\n",
        "    network.train()\n",
        "    for batch_idx, (data, target) in enumerate(train_loader):\n",
        "        data, target = Variable(data), Variable(target)\n",
        "        optimizer.zero_grad()\n",
        "        output = network(data)\n",
        "        loss = F.cross_entropy(output, target)\n",
        "        loss.backward()\n",
        "        optimizer.step()\n",
        "        if batch_idx % 100 == 0:\n",
        "            print('Train Epoch: {} [{}/{} ({:.0f}%)]\\tLoss: {:.6f}'.format(\n",
        "                epoch, batch_idx * len(data), len(train_loader.dataset),\n",
        "                100. * batch_idx / len(train_loader), loss.item()))\n",
        "\n",
        "def test():\n",
        "    network.eval()\n",
        "    test_loss = 0\n",
        "    correct = 0\n",
        "    for data, target in test_loader:\n",
        "        #data, target = Variable(data, volatile=True), Variable(target)\n",
        "        output = network(data)\n",
        "        test_loss += F.cross_entropy(output, target, reduction='sum').item() # sum up batch loss\n",
        "        #test_loss += F.cross_entropy(output, target, sum=True).item() # sum up batch loss\n",
        "        pred = output.data.max(1, keepdim=True)[1] # get the index of the max log-probability\n",
        "        correct += pred.eq(target.data.view_as(pred)).cpu().sum()\n",
        "\n",
        "    test_loss /= len(test_loader.dataset)\n",
        "    print('\\nTest set: Average loss: {:.4f}, Accuracy: {}/{} ({:.0f}%)\\n'.format(\n",
        "        test_loss, correct, len(test_loader.dataset),\n",
        "        100. * correct / len(test_loader.dataset)))\n"
      ],
      "execution_count": 11,
      "outputs": []
    },
    {
      "cell_type": "code",
      "metadata": {
        "id": "c52XmoeCKja2",
        "colab": {
          "base_uri": "https://localhost:8080/"
        },
        "outputId": "0577ebc7-5cda-472f-c6b8-30349d24736b"
      },
      "source": [
        "train(1)"
      ],
      "execution_count": 12,
      "outputs": [
        {
          "output_type": "stream",
          "name": "stdout",
          "text": [
            "Train Epoch: 1 [0/60000 (0%)]\tLoss: 2.633755\n",
            "Train Epoch: 1 [6400/60000 (11%)]\tLoss: 0.679624\n",
            "Train Epoch: 1 [12800/60000 (21%)]\tLoss: 0.333911\n",
            "Train Epoch: 1 [19200/60000 (32%)]\tLoss: 0.347658\n",
            "Train Epoch: 1 [25600/60000 (43%)]\tLoss: 0.458653\n",
            "Train Epoch: 1 [32000/60000 (53%)]\tLoss: 0.580380\n",
            "Train Epoch: 1 [38400/60000 (64%)]\tLoss: 0.308873\n",
            "Train Epoch: 1 [44800/60000 (75%)]\tLoss: 0.195133\n",
            "Train Epoch: 1 [51200/60000 (85%)]\tLoss: 0.375889\n",
            "Train Epoch: 1 [57600/60000 (96%)]\tLoss: 0.282849\n"
          ]
        }
      ]
    },
    {
      "cell_type": "code",
      "metadata": {
        "id": "4Nfl06zkKmfX",
        "colab": {
          "base_uri": "https://localhost:8080/"
        },
        "outputId": "1bca27ee-a3c8-4fb2-f113-bb5a3e0b8167"
      },
      "source": [
        "test()"
      ],
      "execution_count": 13,
      "outputs": [
        {
          "output_type": "stream",
          "name": "stdout",
          "text": [
            "\n",
            "Test set: Average loss: 0.3331, Accuracy: 9077/10000 (91%)\n",
            "\n"
          ]
        }
      ]
    },
    {
      "cell_type": "markdown",
      "metadata": {
        "id": "emj76XBtPQxi"
      },
      "source": [
        "# Weight visualization"
      ]
    },
    {
      "cell_type": "code",
      "metadata": {
        "colab": {
          "base_uri": "https://localhost:8080/"
        },
        "id": "RNsIn1FBJ6JV",
        "outputId": "53a8603c-5da2-4e26-b36f-4d9b8197dfeb"
      },
      "source": [
        "for m in network.modules():\n",
        "  if isinstance(m, nn.Linear):\n",
        "    weight = m.weight.data\n",
        "\n",
        "weight.shape"
      ],
      "execution_count": 14,
      "outputs": [
        {
          "output_type": "execute_result",
          "data": {
            "text/plain": [
              "torch.Size([10, 784])"
            ]
          },
          "metadata": {},
          "execution_count": 14
        }
      ]
    },
    {
      "cell_type": "code",
      "metadata": {
        "colab": {
          "base_uri": "https://localhost:8080/",
          "height": 133
        },
        "id": "kqjY32HyMXQZ",
        "outputId": "8c4e72d5-3bcb-4e37-8e76-c774e3113a1a"
      },
      "source": [
        "def plot_weights(weight):\n",
        "  num_kernels = weight.shape[0]\n",
        "  num_rows = 1\n",
        "  fig = plt.figure(figsize=(10*2, num_rows*2))\n",
        "  for i in range(weight.shape[0]):\n",
        "    ax1 = fig.add_subplot(num_rows, 10, i+1)\n",
        "    ax1.imshow(weight[i].reshape(28, 28), cmap=\"gray\")\n",
        "    ax1.axis(\"off\")\n",
        "  \n",
        "  plt.subplots_adjust(wspace=0.1, hspace=0.1)\n",
        "\n",
        "plot_weights(weight)"
      ],
      "execution_count": 15,
      "outputs": [
        {
          "output_type": "display_data",
          "data": {
            "image/png": "[encoded data removed]",
            "text/plain": [
              "<Figure size 1440x144 with 10 Axes>"
            ]
          },
          "metadata": {
            "needs_background": "light"
          }
        }
      ]
    },
    {
      "cell_type": "markdown",
      "metadata": {
        "id": "4ir12f2JLoPg"
      },
      "source": [
        "# Limiting train examples to 50"
      ]
    },
    {
      "cell_type": "code",
      "metadata": {
        "id": "4PEr0tdHLFX2"
      },
      "source": [
        "## limiting train examples to 50\n",
        "\n",
        "def train_50():\n",
        "  network.train()\n",
        "  for batch_idx, (data, target) in enumerate(train_loader):\n",
        "    data_50 = data[:50]\n",
        "    target_50 = target[:50]\n",
        "    data_50, target_50 = Variable(data_50), Variable(target_50)\n",
        "    optimizer.zero_grad()\n",
        "    output = network(data_50)\n",
        "    loss = F.cross_entropy(output, target_50)\n",
        "    loss.backward()\n",
        "    optimizer.step()\n",
        "    print('Train Epoch: {} [{}/{} ({:.0f}%)]\\tLoss: {:.6f}'.format(\n",
        "                1, (batch_idx+1) * len(data_50), len(train_loader.dataset),\n",
        "                100. * batch_idx / len(train_loader), loss.item()))\n",
        "    break\n",
        "    \n"
      ],
      "execution_count": 16,
      "outputs": []
    },
    {
      "cell_type": "code",
      "metadata": {
        "id": "k3QJlnStS60t"
      },
      "source": [
        "network = Net(num_inputs, num_outputs)\n",
        "optimizer = optim.SGD(network.parameters(), lr=lr)"
      ],
      "execution_count": 17,
      "outputs": []
    },
    {
      "cell_type": "code",
      "metadata": {
        "colab": {
          "base_uri": "https://localhost:8080/"
        },
        "id": "J7TEGWOPiTeX",
        "outputId": "50ccd85b-9a1c-4049-f970-08d9e062e4e6"
      },
      "source": [
        "train_50()"
      ],
      "execution_count": 18,
      "outputs": [
        {
          "output_type": "stream",
          "name": "stdout",
          "text": [
            "Train Epoch: 1 [50/60000 (0%)]\tLoss: 2.434991\n"
          ]
        }
      ]
    },
    {
      "cell_type": "code",
      "metadata": {
        "colab": {
          "base_uri": "https://localhost:8080/"
        },
        "id": "Bpy7gFzrmr5k",
        "outputId": "2c61935b-868c-4343-cb12-4b6cee504a38"
      },
      "source": [
        "test()"
      ],
      "execution_count": 19,
      "outputs": [
        {
          "output_type": "stream",
          "name": "stdout",
          "text": [
            "\n",
            "Test set: Average loss: 2.2894, Accuracy: 1643/10000 (16%)\n",
            "\n"
          ]
        }
      ]
    },
    {
      "cell_type": "markdown",
      "metadata": {
        "id": "rk-O2_m03CIF"
      },
      "source": [
        ""
      ]
    }
  ]
}