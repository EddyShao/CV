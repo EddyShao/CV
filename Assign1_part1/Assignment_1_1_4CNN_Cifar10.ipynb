{
  "nbformat": 4,
  "nbformat_minor": 0,
  "metadata": {
    "colab": {
      "name": "Assignment_1_1_CNNonCifar10_2272_001.ipynb",
      "provenance": [],
      "collapsed_sections": []
    },
    "kernelspec": {
      "name": "python3",
      "display_name": "Python 3"
    },
    "widgets": {
      "application/vnd.jupyter.widget-state+json": {
        "cbdc21dbe549418788e9807840a5cc5a": {
          "model_module": "@jupyter-widgets/controls",
          "model_name": "HBoxModel",
          "model_module_version": "1.5.0",
          "state": {
            "_view_name": "HBoxView",
            "_dom_classes": [],
            "_model_name": "HBoxModel",
            "_view_module": "@jupyter-widgets/controls",
            "_model_module_version": "1.5.0",
            "_view_count": null,
            "_view_module_version": "1.5.0",
            "box_style": "",
            "layout": "IPY_MODEL_b16147a731114c84af8a7ed771fb389e",
            "_model_module": "@jupyter-widgets/controls",
            "children": [
              "IPY_MODEL_e0ad449fd8db471780bd654e1d62bc3d",
              "IPY_MODEL_e4e171bf3b9e4dc59e2676f737052cc2",
              "IPY_MODEL_bd2ee1b775f54c12b85e31b75d73f83a"
            ]
          }
        },
        "b16147a731114c84af8a7ed771fb389e": {
          "model_module": "@jupyter-widgets/base",
          "model_name": "LayoutModel",
          "model_module_version": "1.2.0",
          "state": {
            "_view_name": "LayoutView",
            "grid_template_rows": null,
            "right": null,
            "justify_content": null,
            "_view_module": "@jupyter-widgets/base",
            "overflow": null,
            "_model_module_version": "1.2.0",
            "_view_count": null,
            "flex_flow": null,
            "width": null,
            "min_width": null,
            "border": null,
            "align_items": null,
            "bottom": null,
            "_model_module": "@jupyter-widgets/base",
            "top": null,
            "grid_column": null,
            "overflow_y": null,
            "overflow_x": null,
            "grid_auto_flow": null,
            "grid_area": null,
            "grid_template_columns": null,
            "flex": null,
            "_model_name": "LayoutModel",
            "justify_items": null,
            "grid_row": null,
            "max_height": null,
            "align_content": null,
            "visibility": null,
            "align_self": null,
            "height": null,
            "min_height": null,
            "padding": null,
            "grid_auto_rows": null,
            "grid_gap": null,
            "max_width": null,
            "order": null,
            "_view_module_version": "1.2.0",
            "grid_template_areas": null,
            "object_position": null,
            "object_fit": null,
            "grid_auto_columns": null,
            "margin": null,
            "display": null,
            "left": null
          }
        },
        "e0ad449fd8db471780bd654e1d62bc3d": {
          "model_module": "@jupyter-widgets/controls",
          "model_name": "HTMLModel",
          "model_module_version": "1.5.0",
          "state": {
            "_view_name": "HTMLView",
            "style": "IPY_MODEL_766f354e1c9d436c93566bd1edfaa167",
            "_dom_classes": [],
            "description": "",
            "_model_name": "HTMLModel",
            "placeholder": "​",
            "_view_module": "@jupyter-widgets/controls",
            "_model_module_version": "1.5.0",
            "value": "",
            "_view_count": null,
            "_view_module_version": "1.5.0",
            "description_tooltip": null,
            "_model_module": "@jupyter-widgets/controls",
            "layout": "IPY_MODEL_2e51f5e1f31446ff9285f91fb0130430"
          }
        },
        "e4e171bf3b9e4dc59e2676f737052cc2": {
          "model_module": "@jupyter-widgets/controls",
          "model_name": "FloatProgressModel",
          "model_module_version": "1.5.0",
          "state": {
            "_view_name": "ProgressView",
            "style": "IPY_MODEL_55d7438443a148c8925466a30452c4d3",
            "_dom_classes": [],
            "description": "",
            "_model_name": "FloatProgressModel",
            "bar_style": "success",
            "max": 170498071,
            "_view_module": "@jupyter-widgets/controls",
            "_model_module_version": "1.5.0",
            "value": 170498071,
            "_view_count": null,
            "_view_module_version": "1.5.0",
            "orientation": "horizontal",
            "min": 0,
            "description_tooltip": null,
            "_model_module": "@jupyter-widgets/controls",
            "layout": "IPY_MODEL_d76f5b4e155e4f66bb8dbe50e85279a3"
          }
        },
        "bd2ee1b775f54c12b85e31b75d73f83a": {
          "model_module": "@jupyter-widgets/controls",
          "model_name": "HTMLModel",
          "model_module_version": "1.5.0",
          "state": {
            "_view_name": "HTMLView",
            "style": "IPY_MODEL_46203ea8f66b43e58b250b4a005dc7c6",
            "_dom_classes": [],
            "description": "",
            "_model_name": "HTMLModel",
            "placeholder": "​",
            "_view_module": "@jupyter-widgets/controls",
            "_model_module_version": "1.5.0",
            "value": " 170499072/? [00:14&lt;00:00, 14759859.26it/s]",
            "_view_count": null,
            "_view_module_version": "1.5.0",
            "description_tooltip": null,
            "_model_module": "@jupyter-widgets/controls",
            "layout": "IPY_MODEL_faf29d8d9b5e4f808f00a3fc6e6e4542"
          }
        },
        "766f354e1c9d436c93566bd1edfaa167": {
          "model_module": "@jupyter-widgets/controls",
          "model_name": "DescriptionStyleModel",
          "model_module_version": "1.5.0",
          "state": {
            "_view_name": "StyleView",
            "_model_name": "DescriptionStyleModel",
            "description_width": "",
            "_view_module": "@jupyter-widgets/base",
            "_model_module_version": "1.5.0",
            "_view_count": null,
            "_view_module_version": "1.2.0",
            "_model_module": "@jupyter-widgets/controls"
          }
        },
        "2e51f5e1f31446ff9285f91fb0130430": {
          "model_module": "@jupyter-widgets/base",
          "model_name": "LayoutModel",
          "model_module_version": "1.2.0",
          "state": {
            "_view_name": "LayoutView",
            "grid_template_rows": null,
            "right": null,
            "justify_content": null,
            "_view_module": "@jupyter-widgets/base",
            "overflow": null,
            "_model_module_version": "1.2.0",
            "_view_count": null,
            "flex_flow": null,
            "width": null,
            "min_width": null,
            "border": null,
            "align_items": null,
            "bottom": null,
            "_model_module": "@jupyter-widgets/base",
            "top": null,
            "grid_column": null,
            "overflow_y": null,
            "overflow_x": null,
            "grid_auto_flow": null,
            "grid_area": null,
            "grid_template_columns": null,
            "flex": null,
            "_model_name": "LayoutModel",
            "justify_items": null,
            "grid_row": null,
            "max_height": null,
            "align_content": null,
            "visibility": null,
            "align_self": null,
            "height": null,
            "min_height": null,
            "padding": null,
            "grid_auto_rows": null,
            "grid_gap": null,
            "max_width": null,
            "order": null,
            "_view_module_version": "1.2.0",
            "grid_template_areas": null,
            "object_position": null,
            "object_fit": null,
            "grid_auto_columns": null,
            "margin": null,
            "display": null,
            "left": null
          }
        },
        "55d7438443a148c8925466a30452c4d3": {
          "model_module": "@jupyter-widgets/controls",
          "model_name": "ProgressStyleModel",
          "model_module_version": "1.5.0",
          "state": {
            "_view_name": "StyleView",
            "_model_name": "ProgressStyleModel",
            "description_width": "",
            "_view_module": "@jupyter-widgets/base",
            "_model_module_version": "1.5.0",
            "_view_count": null,
            "_view_module_version": "1.2.0",
            "bar_color": null,
            "_model_module": "@jupyter-widgets/controls"
          }
        },
        "d76f5b4e155e4f66bb8dbe50e85279a3": {
          "model_module": "@jupyter-widgets/base",
          "model_name": "LayoutModel",
          "model_module_version": "1.2.0",
          "state": {
            "_view_name": "LayoutView",
            "grid_template_rows": null,
            "right": null,
            "justify_content": null,
            "_view_module": "@jupyter-widgets/base",
            "overflow": null,
            "_model_module_version": "1.2.0",
            "_view_count": null,
            "flex_flow": null,
            "width": null,
            "min_width": null,
            "border": null,
            "align_items": null,
            "bottom": null,
            "_model_module": "@jupyter-widgets/base",
            "top": null,
            "grid_column": null,
            "overflow_y": null,
            "overflow_x": null,
            "grid_auto_flow": null,
            "grid_area": null,
            "grid_template_columns": null,
            "flex": null,
            "_model_name": "LayoutModel",
            "justify_items": null,
            "grid_row": null,
            "max_height": null,
            "align_content": null,
            "visibility": null,
            "align_self": null,
            "height": null,
            "min_height": null,
            "padding": null,
            "grid_auto_rows": null,
            "grid_gap": null,
            "max_width": null,
            "order": null,
            "_view_module_version": "1.2.0",
            "grid_template_areas": null,
            "object_position": null,
            "object_fit": null,
            "grid_auto_columns": null,
            "margin": null,
            "display": null,
            "left": null
          }
        },
        "46203ea8f66b43e58b250b4a005dc7c6": {
          "model_module": "@jupyter-widgets/controls",
          "model_name": "DescriptionStyleModel",
          "model_module_version": "1.5.0",
          "state": {
            "_view_name": "StyleView",
            "_model_name": "DescriptionStyleModel",
            "description_width": "",
            "_view_module": "@jupyter-widgets/base",
            "_model_module_version": "1.5.0",
            "_view_count": null,
            "_view_module_version": "1.2.0",
            "_model_module": "@jupyter-widgets/controls"
          }
        },
        "faf29d8d9b5e4f808f00a3fc6e6e4542": {
          "model_module": "@jupyter-widgets/base",
          "model_name": "LayoutModel",
          "model_module_version": "1.2.0",
          "state": {
            "_view_name": "LayoutView",
            "grid_template_rows": null,
            "right": null,
            "justify_content": null,
            "_view_module": "@jupyter-widgets/base",
            "overflow": null,
            "_model_module_version": "1.2.0",
            "_view_count": null,
            "flex_flow": null,
            "width": null,
            "min_width": null,
            "border": null,
            "align_items": null,
            "bottom": null,
            "_model_module": "@jupyter-widgets/base",
            "top": null,
            "grid_column": null,
            "overflow_y": null,
            "overflow_x": null,
            "grid_auto_flow": null,
            "grid_area": null,
            "grid_template_columns": null,
            "flex": null,
            "_model_name": "LayoutModel",
            "justify_items": null,
            "grid_row": null,
            "max_height": null,
            "align_content": null,
            "visibility": null,
            "align_self": null,
            "height": null,
            "min_height": null,
            "padding": null,
            "grid_auto_rows": null,
            "grid_gap": null,
            "max_width": null,
            "order": null,
            "_view_module_version": "1.2.0",
            "grid_template_areas": null,
            "object_position": null,
            "object_fit": null,
            "grid_auto_columns": null,
            "margin": null,
            "display": null,
            "left": null
          }
        }
      }
    },
    "accelerator": "GPU"
  },
  "cells": [
    {
      "cell_type": "code",
      "metadata": {
        "id": "CrnqiscEKGWv"
      },
      "source": [
        "from __future__ import print_function\n",
        "import argparse\n",
        "import torch\n",
        "import torch.nn as nn\n",
        "import torch.nn.functional as F\n",
        "import torch.optim as optim\n",
        "from torchvision import datasets, transforms\n",
        "from torch.autograd import Variable"
      ],
      "execution_count": 2,
      "outputs": []
    },
    {
      "cell_type": "code",
      "metadata": {
        "id": "V0NBWksLKRD7"
      },
      "source": [
        "# options\n",
        "dataset = 'cifar10' # options: 'mnist' | 'cifar10'\n",
        "batch_size = 64   # input batch size for training\n",
        "epochs = 10       # number of epochs to train\n",
        "lr = 0.01        # learning rate"
      ],
      "execution_count": 3,
      "outputs": []
    },
    {
      "cell_type": "code",
      "metadata": {
        "id": "ab7pqvGUKVVf",
        "colab": {
          "base_uri": "https://localhost:8080/",
          "height": 100,
          "referenced_widgets": [
            "cbdc21dbe549418788e9807840a5cc5a",
            "b16147a731114c84af8a7ed771fb389e",
            "e0ad449fd8db471780bd654e1d62bc3d",
            "e4e171bf3b9e4dc59e2676f737052cc2",
            "bd2ee1b775f54c12b85e31b75d73f83a",
            "766f354e1c9d436c93566bd1edfaa167",
            "2e51f5e1f31446ff9285f91fb0130430",
            "55d7438443a148c8925466a30452c4d3",
            "d76f5b4e155e4f66bb8dbe50e85279a3",
            "46203ea8f66b43e58b250b4a005dc7c6",
            "faf29d8d9b5e4f808f00a3fc6e6e4542"
          ]
        },
        "outputId": "04e5bf42-9c92-4609-a622-65a74174e879"
      },
      "source": [
        "# Data Loading\n",
        "# Warning: this cell might take some time when you run it for the first time, \n",
        "#          because it will download the datasets from the internet\n",
        "if dataset == 'mnist':\n",
        "    data_transform = transforms.Compose([\n",
        "        transforms.ToTensor(),\n",
        "        transforms.Normalize((0.1307,), (0.3081,))\n",
        "    ])\n",
        "    trainset = datasets.MNIST(root='.', train=True, download=True, transform=data_transform)\n",
        "    testset = datasets.MNIST(root='.', train=False, download=True, transform=data_transform)\n",
        "\n",
        "elif dataset == 'cifar10':\n",
        "    data_transform = transforms.Compose([\n",
        "        transforms.ToTensor(),\n",
        "        transforms.Normalize((0.5, 0.5, 0.5), (0.5, 0.5, 0.5)),\n",
        "    ])\n",
        "    trainset = datasets.CIFAR10(root='.', train=True, download=True, transform=data_transform)\n",
        "    testset = datasets.CIFAR10(root='.', train=False, download=True, transform=data_transform)\n",
        "\n",
        "train_loader = torch.utils.data.DataLoader(trainset, batch_size=batch_size, shuffle=True, num_workers=0)\n",
        "test_loader  = torch.utils.data.DataLoader(testset, batch_size=batch_size, shuffle=False, num_workers=0)"
      ],
      "execution_count": 4,
      "outputs": [
        {
          "output_type": "stream",
          "name": "stdout",
          "text": [
            "Downloading https://www.cs.toronto.edu/~kriz/cifar-10-python.tar.gz to ./cifar-10-python.tar.gz\n"
          ]
        },
        {
          "output_type": "display_data",
          "data": {
            "application/vnd.jupyter.widget-view+json": {
              "model_id": "cbdc21dbe549418788e9807840a5cc5a",
              "version_minor": 0,
              "version_major": 2
            },
            "text/plain": [
              "  0%|          | 0/170498071 [00:00<?, ?it/s]"
            ]
          },
          "metadata": {}
        },
        {
          "output_type": "stream",
          "name": "stdout",
          "text": [
            "Extracting ./cifar-10-python.tar.gz to .\n",
            "Files already downloaded and verified\n"
          ]
        }
      ]
    },
    {
      "cell_type": "code",
      "metadata": {
        "id": "mRkBGjAEKZM0"
      },
      "source": [
        "## network and optimizer\n",
        "if dataset == 'mnist':\n",
        "    num_inputs = 784\n",
        "elif dataset == 'cifar10':\n",
        "    num_inputs = 3072\n",
        "\n",
        "num_outputs = 10 # same for both CIFAR10 and MNIST, both have 10 classes as outputs\n",
        "\n",
        "class Net(nn.Module):\n",
        "    def __init__(self, num_inputs, num_outputs):\n",
        "        super(Net, self).__init__()\n",
        "        self.conv1 = nn.Conv2d(3, 16, 5)\n",
        "        self.conv2 = nn.Conv2d(16, 128, 5)\n",
        "        self.linear1 = nn.Linear(128*5*5, 64)\n",
        "        self.linear2 = nn.Linear(64, 10)\n",
        "         \n",
        "\n",
        "    def forward(self, input):\n",
        "        #input = input.view(-1, num_inputs) # reshape input to batch x num_inputs\n",
        "        output = F.max_pool2d(torch.tanh(self.conv1(input)), 2)\n",
        "        output = F.max_pool2d(torch.tanh(self.conv2(output)), 2)\n",
        "        output = torch.flatten(output, 1)\n",
        "        output = torch.tanh(self.linear1(output))\n",
        "        output = self.linear2(output)\n",
        "    \n",
        "        return output\n",
        "\n",
        "network = Net(num_inputs, num_outputs).cuda()\n",
        "optimizer = optim.SGD(network.parameters(), lr=lr)"
      ],
      "execution_count": 5,
      "outputs": []
    },
    {
      "cell_type": "code",
      "metadata": {
        "id": "3DfrCg4-Kfq6"
      },
      "source": [
        "def train(epoch_nums):\n",
        "    network.train()\n",
        "    for epoch in range(epoch_nums):\n",
        "      print(\"Starting train epoch \", epoch+1)\n",
        "      for batch_idx, (data, target) in enumerate(train_loader):\n",
        "        data, target = Variable(data), Variable(target)\n",
        "        data = data.cuda()\n",
        "        target = target.cuda()\n",
        "        optimizer.zero_grad()\n",
        "        output = network(data)\n",
        "        loss = F.cross_entropy(output, target)\n",
        "        loss.backward()\n",
        "        optimizer.step()\n",
        "        if (batch_idx+1) % 100 == 0:\n",
        "            print('Train Epoch: {} [{}/{} ({:.0f}%)]\\tLoss: {:.6f}'.format(\n",
        "                epoch+1, (batch_idx+1) * len(data), len(train_loader.dataset),\n",
        "                100. * batch_idx / len(train_loader), loss.item()))\n",
        "\n",
        "    \n",
        "\n",
        "def test():\n",
        "    network.eval()\n",
        "    test_loss = 0\n",
        "    correct = 0\n",
        "    for data, target in test_loader:\n",
        "        data = data.cuda()\n",
        "        target = target.cuda()\n",
        "        #data, target = Variable(data, volatile=True), Variable(target)\n",
        "        output = network(data)\n",
        "        test_loss += F.cross_entropy(output, target, reduction='sum').item() # sum up batch loss\n",
        "        #test_loss += F.cross_entropy(output, target, sum=True).item() # sum up batch loss\n",
        "        pred = output.data.max(1, keepdim=True)[1] # get the index of the max log-probability\n",
        "        correct += pred.eq(target.data.view_as(pred)).cpu().sum()\n",
        "\n",
        "    test_loss /= len(test_loader.dataset)\n",
        "    print('\\nTest set: Average loss: {:.4f}, Accuracy: {}/{} ({:.0f}%)\\n'.format(\n",
        "        test_loss, correct, len(test_loader.dataset),\n",
        "        100. * correct / len(test_loader.dataset)))\n"
      ],
      "execution_count": 6,
      "outputs": []
    },
    {
      "cell_type": "code",
      "metadata": {
        "id": "c52XmoeCKja2",
        "colab": {
          "base_uri": "https://localhost:8080/"
        },
        "outputId": "fb2a8faa-6b33-4ed7-b584-0d7a9e13a495"
      },
      "source": [
        "train(20)"
      ],
      "execution_count": 7,
      "outputs": [
        {
          "output_type": "stream",
          "name": "stdout",
          "text": [
            "Starting train epoch  1\n"
          ]
        },
        {
          "output_type": "stream",
          "name": "stderr",
          "text": [
            "/usr/local/lib/python3.7/dist-packages/torch/nn/functional.py:718: UserWarning: Named tensors and all their associated APIs are an experimental feature and subject to change. Please do not use them for anything important until they are released as stable. (Triggered internally at  /pytorch/c10/core/TensorImpl.h:1156.)\n",
            "  return torch.max_pool2d(input, kernel_size, stride, padding, dilation, ceil_mode)\n"
          ]
        },
        {
          "output_type": "stream",
          "name": "stdout",
          "text": [
            "Train Epoch: 1 [6400/50000 (13%)]\tLoss: 2.128841\n",
            "Train Epoch: 1 [12800/50000 (25%)]\tLoss: 2.012366\n",
            "Train Epoch: 1 [19200/50000 (38%)]\tLoss: 2.005077\n",
            "Train Epoch: 1 [25600/50000 (51%)]\tLoss: 1.910277\n",
            "Train Epoch: 1 [32000/50000 (64%)]\tLoss: 2.048770\n",
            "Train Epoch: 1 [38400/50000 (77%)]\tLoss: 1.855513\n",
            "Train Epoch: 1 [44800/50000 (89%)]\tLoss: 1.884568\n",
            "Starting train epoch  2\n",
            "Train Epoch: 2 [6400/50000 (13%)]\tLoss: 1.691706\n",
            "Train Epoch: 2 [12800/50000 (25%)]\tLoss: 1.978198\n",
            "Train Epoch: 2 [19200/50000 (38%)]\tLoss: 1.799113\n",
            "Train Epoch: 2 [25600/50000 (51%)]\tLoss: 1.695851\n",
            "Train Epoch: 2 [32000/50000 (64%)]\tLoss: 1.657843\n",
            "Train Epoch: 2 [38400/50000 (77%)]\tLoss: 1.632947\n",
            "Train Epoch: 2 [44800/50000 (89%)]\tLoss: 1.723193\n",
            "Starting train epoch  3\n",
            "Train Epoch: 3 [6400/50000 (13%)]\tLoss: 1.680063\n",
            "Train Epoch: 3 [12800/50000 (25%)]\tLoss: 1.907557\n",
            "Train Epoch: 3 [19200/50000 (38%)]\tLoss: 1.584166\n",
            "Train Epoch: 3 [25600/50000 (51%)]\tLoss: 1.632419\n",
            "Train Epoch: 3 [32000/50000 (64%)]\tLoss: 1.551185\n",
            "Train Epoch: 3 [38400/50000 (77%)]\tLoss: 1.304203\n",
            "Train Epoch: 3 [44800/50000 (89%)]\tLoss: 1.607505\n",
            "Starting train epoch  4\n",
            "Train Epoch: 4 [6400/50000 (13%)]\tLoss: 1.456148\n",
            "Train Epoch: 4 [12800/50000 (25%)]\tLoss: 1.455900\n",
            "Train Epoch: 4 [19200/50000 (38%)]\tLoss: 1.432372\n",
            "Train Epoch: 4 [25600/50000 (51%)]\tLoss: 1.324438\n",
            "Train Epoch: 4 [32000/50000 (64%)]\tLoss: 1.527466\n",
            "Train Epoch: 4 [38400/50000 (77%)]\tLoss: 1.488912\n",
            "Train Epoch: 4 [44800/50000 (89%)]\tLoss: 1.417072\n",
            "Starting train epoch  5\n",
            "Train Epoch: 5 [6400/50000 (13%)]\tLoss: 1.221955\n",
            "Train Epoch: 5 [12800/50000 (25%)]\tLoss: 1.356364\n",
            "Train Epoch: 5 [19200/50000 (38%)]\tLoss: 1.185359\n",
            "Train Epoch: 5 [25600/50000 (51%)]\tLoss: 1.269617\n",
            "Train Epoch: 5 [32000/50000 (64%)]\tLoss: 1.281564\n",
            "Train Epoch: 5 [38400/50000 (77%)]\tLoss: 1.453713\n",
            "Train Epoch: 5 [44800/50000 (89%)]\tLoss: 1.376131\n",
            "Starting train epoch  6\n",
            "Train Epoch: 6 [6400/50000 (13%)]\tLoss: 1.306425\n",
            "Train Epoch: 6 [12800/50000 (25%)]\tLoss: 1.289435\n",
            "Train Epoch: 6 [19200/50000 (38%)]\tLoss: 1.478760\n",
            "Train Epoch: 6 [25600/50000 (51%)]\tLoss: 1.163531\n",
            "Train Epoch: 6 [32000/50000 (64%)]\tLoss: 1.288634\n",
            "Train Epoch: 6 [38400/50000 (77%)]\tLoss: 1.377564\n",
            "Train Epoch: 6 [44800/50000 (89%)]\tLoss: 1.162748\n",
            "Starting train epoch  7\n",
            "Train Epoch: 7 [6400/50000 (13%)]\tLoss: 1.359076\n",
            "Train Epoch: 7 [12800/50000 (25%)]\tLoss: 1.249633\n",
            "Train Epoch: 7 [19200/50000 (38%)]\tLoss: 1.163609\n",
            "Train Epoch: 7 [25600/50000 (51%)]\tLoss: 1.324312\n",
            "Train Epoch: 7 [32000/50000 (64%)]\tLoss: 0.992873\n",
            "Train Epoch: 7 [38400/50000 (77%)]\tLoss: 1.240929\n",
            "Train Epoch: 7 [44800/50000 (89%)]\tLoss: 1.186978\n",
            "Starting train epoch  8\n",
            "Train Epoch: 8 [6400/50000 (13%)]\tLoss: 1.200372\n",
            "Train Epoch: 8 [12800/50000 (25%)]\tLoss: 1.221795\n",
            "Train Epoch: 8 [19200/50000 (38%)]\tLoss: 1.167206\n",
            "Train Epoch: 8 [25600/50000 (51%)]\tLoss: 1.162971\n",
            "Train Epoch: 8 [32000/50000 (64%)]\tLoss: 1.297330\n",
            "Train Epoch: 8 [38400/50000 (77%)]\tLoss: 1.286175\n",
            "Train Epoch: 8 [44800/50000 (89%)]\tLoss: 0.939685\n",
            "Starting train epoch  9\n",
            "Train Epoch: 9 [6400/50000 (13%)]\tLoss: 1.039359\n",
            "Train Epoch: 9 [12800/50000 (25%)]\tLoss: 0.950887\n",
            "Train Epoch: 9 [19200/50000 (38%)]\tLoss: 1.173202\n",
            "Train Epoch: 9 [25600/50000 (51%)]\tLoss: 1.146691\n",
            "Train Epoch: 9 [32000/50000 (64%)]\tLoss: 1.182027\n",
            "Train Epoch: 9 [38400/50000 (77%)]\tLoss: 1.213929\n",
            "Train Epoch: 9 [44800/50000 (89%)]\tLoss: 0.918154\n",
            "Starting train epoch  10\n",
            "Train Epoch: 10 [6400/50000 (13%)]\tLoss: 1.004909\n",
            "Train Epoch: 10 [12800/50000 (25%)]\tLoss: 1.272636\n",
            "Train Epoch: 10 [19200/50000 (38%)]\tLoss: 0.811041\n",
            "Train Epoch: 10 [25600/50000 (51%)]\tLoss: 1.136946\n",
            "Train Epoch: 10 [32000/50000 (64%)]\tLoss: 0.933215\n",
            "Train Epoch: 10 [38400/50000 (77%)]\tLoss: 0.953795\n",
            "Train Epoch: 10 [44800/50000 (89%)]\tLoss: 1.069692\n",
            "Starting train epoch  11\n",
            "Train Epoch: 11 [6400/50000 (13%)]\tLoss: 1.044013\n",
            "Train Epoch: 11 [12800/50000 (25%)]\tLoss: 1.192739\n",
            "Train Epoch: 11 [19200/50000 (38%)]\tLoss: 0.993354\n",
            "Train Epoch: 11 [25600/50000 (51%)]\tLoss: 1.003698\n",
            "Train Epoch: 11 [32000/50000 (64%)]\tLoss: 0.857542\n",
            "Train Epoch: 11 [38400/50000 (77%)]\tLoss: 0.957558\n",
            "Train Epoch: 11 [44800/50000 (89%)]\tLoss: 0.858291\n",
            "Starting train epoch  12\n",
            "Train Epoch: 12 [6400/50000 (13%)]\tLoss: 0.893808\n",
            "Train Epoch: 12 [12800/50000 (25%)]\tLoss: 0.886493\n",
            "Train Epoch: 12 [19200/50000 (38%)]\tLoss: 1.005727\n",
            "Train Epoch: 12 [25600/50000 (51%)]\tLoss: 1.108512\n",
            "Train Epoch: 12 [32000/50000 (64%)]\tLoss: 1.110851\n",
            "Train Epoch: 12 [38400/50000 (77%)]\tLoss: 1.087530\n",
            "Train Epoch: 12 [44800/50000 (89%)]\tLoss: 1.068259\n",
            "Starting train epoch  13\n",
            "Train Epoch: 13 [6400/50000 (13%)]\tLoss: 0.951622\n",
            "Train Epoch: 13 [12800/50000 (25%)]\tLoss: 1.142400\n",
            "Train Epoch: 13 [19200/50000 (38%)]\tLoss: 0.867256\n",
            "Train Epoch: 13 [25600/50000 (51%)]\tLoss: 1.060115\n",
            "Train Epoch: 13 [32000/50000 (64%)]\tLoss: 0.637370\n",
            "Train Epoch: 13 [38400/50000 (77%)]\tLoss: 1.126657\n",
            "Train Epoch: 13 [44800/50000 (89%)]\tLoss: 1.045095\n",
            "Starting train epoch  14\n",
            "Train Epoch: 14 [6400/50000 (13%)]\tLoss: 0.847493\n",
            "Train Epoch: 14 [12800/50000 (25%)]\tLoss: 1.204078\n",
            "Train Epoch: 14 [19200/50000 (38%)]\tLoss: 1.015132\n",
            "Train Epoch: 14 [25600/50000 (51%)]\tLoss: 1.067676\n",
            "Train Epoch: 14 [32000/50000 (64%)]\tLoss: 0.966938\n",
            "Train Epoch: 14 [38400/50000 (77%)]\tLoss: 0.799788\n",
            "Train Epoch: 14 [44800/50000 (89%)]\tLoss: 0.934930\n",
            "Starting train epoch  15\n",
            "Train Epoch: 15 [6400/50000 (13%)]\tLoss: 0.891349\n",
            "Train Epoch: 15 [12800/50000 (25%)]\tLoss: 0.903062\n",
            "Train Epoch: 15 [19200/50000 (38%)]\tLoss: 1.021371\n",
            "Train Epoch: 15 [25600/50000 (51%)]\tLoss: 1.155195\n",
            "Train Epoch: 15 [32000/50000 (64%)]\tLoss: 0.872645\n",
            "Train Epoch: 15 [38400/50000 (77%)]\tLoss: 0.990996\n",
            "Train Epoch: 15 [44800/50000 (89%)]\tLoss: 0.914242\n",
            "Starting train epoch  16\n",
            "Train Epoch: 16 [6400/50000 (13%)]\tLoss: 1.020718\n",
            "Train Epoch: 16 [12800/50000 (25%)]\tLoss: 0.963576\n",
            "Train Epoch: 16 [19200/50000 (38%)]\tLoss: 0.951237\n",
            "Train Epoch: 16 [25600/50000 (51%)]\tLoss: 0.856422\n",
            "Train Epoch: 16 [32000/50000 (64%)]\tLoss: 0.767475\n",
            "Train Epoch: 16 [38400/50000 (77%)]\tLoss: 0.960484\n",
            "Train Epoch: 16 [44800/50000 (89%)]\tLoss: 1.051158\n",
            "Starting train epoch  17\n",
            "Train Epoch: 17 [6400/50000 (13%)]\tLoss: 1.011451\n",
            "Train Epoch: 17 [12800/50000 (25%)]\tLoss: 0.867597\n",
            "Train Epoch: 17 [19200/50000 (38%)]\tLoss: 0.599774\n",
            "Train Epoch: 17 [25600/50000 (51%)]\tLoss: 0.963269\n",
            "Train Epoch: 17 [32000/50000 (64%)]\tLoss: 0.931532\n",
            "Train Epoch: 17 [38400/50000 (77%)]\tLoss: 0.889541\n",
            "Train Epoch: 17 [44800/50000 (89%)]\tLoss: 0.911781\n",
            "Starting train epoch  18\n",
            "Train Epoch: 18 [6400/50000 (13%)]\tLoss: 0.703504\n",
            "Train Epoch: 18 [12800/50000 (25%)]\tLoss: 0.818191\n",
            "Train Epoch: 18 [19200/50000 (38%)]\tLoss: 0.926753\n",
            "Train Epoch: 18 [25600/50000 (51%)]\tLoss: 0.925353\n",
            "Train Epoch: 18 [32000/50000 (64%)]\tLoss: 0.853710\n",
            "Train Epoch: 18 [38400/50000 (77%)]\tLoss: 0.897866\n",
            "Train Epoch: 18 [44800/50000 (89%)]\tLoss: 0.932170\n",
            "Starting train epoch  19\n",
            "Train Epoch: 19 [6400/50000 (13%)]\tLoss: 0.713396\n",
            "Train Epoch: 19 [12800/50000 (25%)]\tLoss: 0.975863\n",
            "Train Epoch: 19 [19200/50000 (38%)]\tLoss: 0.766749\n",
            "Train Epoch: 19 [25600/50000 (51%)]\tLoss: 0.838460\n",
            "Train Epoch: 19 [32000/50000 (64%)]\tLoss: 0.823472\n",
            "Train Epoch: 19 [38400/50000 (77%)]\tLoss: 0.940983\n",
            "Train Epoch: 19 [44800/50000 (89%)]\tLoss: 0.973845\n",
            "Starting train epoch  20\n",
            "Train Epoch: 20 [6400/50000 (13%)]\tLoss: 0.752859\n",
            "Train Epoch: 20 [12800/50000 (25%)]\tLoss: 1.113873\n",
            "Train Epoch: 20 [19200/50000 (38%)]\tLoss: 0.691720\n",
            "Train Epoch: 20 [25600/50000 (51%)]\tLoss: 0.865655\n",
            "Train Epoch: 20 [32000/50000 (64%)]\tLoss: 1.026232\n",
            "Train Epoch: 20 [38400/50000 (77%)]\tLoss: 0.762307\n",
            "Train Epoch: 20 [44800/50000 (89%)]\tLoss: 0.933434\n"
          ]
        }
      ]
    },
    {
      "cell_type": "code",
      "metadata": {
        "id": "4Nfl06zkKmfX",
        "colab": {
          "base_uri": "https://localhost:8080/"
        },
        "outputId": "53b8d957-7d14-40dc-fc55-0ed7fa48510c"
      },
      "source": [
        "test()"
      ],
      "execution_count": 8,
      "outputs": [
        {
          "output_type": "stream",
          "name": "stdout",
          "text": [
            "\n",
            "Test set: Average loss: 0.9658, Accuracy: 6549/10000 (65%)\n",
            "\n"
          ]
        }
      ]
    },
    {
      "cell_type": "markdown",
      "metadata": {
        "id": "bq-oU8bAe97q"
      },
      "source": [
        "# Filter visualization"
      ]
    },
    {
      "cell_type": "code",
      "metadata": {
        "id": "l-DdoJUvRPdf"
      },
      "source": [
        "layer1 = network.conv1\n",
        "weight = layer1.weight.data.clone()\n",
        "tensor = layer1.weight.data.cpu().numpy()\n",
        "tensor = tensor.reshape(16, 5, 5, 3)"
      ],
      "execution_count": 43,
      "outputs": []
    },
    {
      "cell_type": "code",
      "metadata": {
        "id": "1_TYViRAW_TN"
      },
      "source": [
        "import matplotlib.pyplot as plt\n",
        "from torchvision import utils\n",
        "import numpy as np"
      ],
      "execution_count": 44,
      "outputs": []
    },
    {
      "cell_type": "code",
      "metadata": {
        "id": "KPvMgVNYQ-wD",
        "colab": {
          "base_uri": "https://localhost:8080/",
          "height": 611
        },
        "outputId": "31023d13-8915-4cb9-aa76-74f9b9c3621d"
      },
      "source": [
        "\n",
        "def plot_kernels(tensor, num_cols=8):\n",
        "    if not tensor.ndim==4:\n",
        "        raise Exception(\"assumes a 4D tensor\")\n",
        "    \n",
        "\n",
        "    num_kernels = tensor.shape[0]\n",
        "    num_rows = 1+ num_kernels // num_cols\n",
        "    fig = plt.figure(figsize=(num_cols*3,num_rows*3))\n",
        "\n",
        "    for i in range(tensor.shape[0]):\n",
        "        ax1 = fig.add_subplot(num_rows,num_cols,i+1)\n",
        "        ax1.imshow(tensor[i]*255)\n",
        "        ax1.axis('off')\n",
        "    plt.subplots_adjust(wspace=0.1, hspace=0.1)\n",
        "    plt.show()\n",
        "\n",
        "plot_kernels(tensor)"
      ],
      "execution_count": 52,
      "outputs": [
        {
          "output_type": "stream",
          "name": "stderr",
          "text": [
            "Clipping input data to the valid range for imshow with RGB data ([0..1] for floats or [0..255] for integers).\n",
            "Clipping input data to the valid range for imshow with RGB data ([0..1] for floats or [0..255] for integers).\n",
            "Clipping input data to the valid range for imshow with RGB data ([0..1] for floats or [0..255] for integers).\n",
            "Clipping input data to the valid range for imshow with RGB data ([0..1] for floats or [0..255] for integers).\n",
            "Clipping input data to the valid range for imshow with RGB data ([0..1] for floats or [0..255] for integers).\n",
            "Clipping input data to the valid range for imshow with RGB data ([0..1] for floats or [0..255] for integers).\n",
            "Clipping input data to the valid range for imshow with RGB data ([0..1] for floats or [0..255] for integers).\n",
            "Clipping input data to the valid range for imshow with RGB data ([0..1] for floats or [0..255] for integers).\n",
            "Clipping input data to the valid range for imshow with RGB data ([0..1] for floats or [0..255] for integers).\n",
            "Clipping input data to the valid range for imshow with RGB data ([0..1] for floats or [0..255] for integers).\n",
            "Clipping input data to the valid range for imshow with RGB data ([0..1] for floats or [0..255] for integers).\n",
            "Clipping input data to the valid range for imshow with RGB data ([0..1] for floats or [0..255] for integers).\n",
            "Clipping input data to the valid range for imshow with RGB data ([0..1] for floats or [0..255] for integers).\n",
            "Clipping input data to the valid range for imshow with RGB data ([0..1] for floats or [0..255] for integers).\n",
            "Clipping input data to the valid range for imshow with RGB data ([0..1] for floats or [0..255] for integers).\n",
            "Clipping input data to the valid range for imshow with RGB data ([0..1] for floats or [0..255] for integers).\n"
          ]
        },
        {
          "output_type": "display_data",
          "data": {
            "image/png": "[encoded data removed]",
            "text/plain": [
              "<Figure size 1728x648 with 16 Axes>"
            ]
          },
          "metadata": {
            "needs_background": "light"
          }
        }
      ]
    },
    {
      "cell_type": "markdown",
      "metadata": {
        "id": "DBQ9PLcgezWQ"
      },
      "source": [
        "# Break down of parameters of each layer and overall number"
      ]
    },
    {
      "cell_type": "code",
      "metadata": {
        "colab": {
          "base_uri": "https://localhost:8080/"
        },
        "id": "uMtuZC-GeeYB",
        "outputId": "86037d93-1642-4827-9708-c27287d89d9c"
      },
      "source": [
        "from torchsummary import summary\n",
        "summary(network, (3, 32, 32))"
      ],
      "execution_count": 53,
      "outputs": [
        {
          "output_type": "stream",
          "name": "stdout",
          "text": [
            "----------------------------------------------------------------\n",
            "        Layer (type)               Output Shape         Param #\n",
            "================================================================\n",
            "            Conv2d-1           [-1, 16, 28, 28]           1,216\n",
            "            Conv2d-2          [-1, 128, 10, 10]          51,328\n",
            "            Linear-3                   [-1, 64]         204,864\n",
            "            Linear-4                   [-1, 10]             650\n",
            "================================================================\n",
            "Total params: 258,058\n",
            "Trainable params: 258,058\n",
            "Non-trainable params: 0\n",
            "----------------------------------------------------------------\n",
            "Input size (MB): 0.01\n",
            "Forward/backward pass size (MB): 0.19\n",
            "Params size (MB): 0.98\n",
            "Estimated Total Size (MB): 1.19\n",
            "----------------------------------------------------------------\n"
          ]
        }
      ]
    }
  ]
}